{
 "cells": [
  {
   "cell_type": "code",
   "execution_count": 33,
   "id": "crucial-october",
   "metadata": {},
   "outputs": [],
   "source": [
    "#Let's go ahead and start with some imports\n",
    "import pandas as pd\n",
    "from pandas import Series,DataFrame\n",
    "import numpy as np\n",
    "import json\n",
    "\n",
    "# For Visualization\n",
    "import matplotlib.pyplot as plt\n",
    "import seaborn as sns\n",
    "sns.set_style('whitegrid')\n",
    "%matplotlib inline"
   ]
  },
  {
   "cell_type": "code",
   "execution_count": 139,
   "id": "internal-bargain",
   "metadata": {},
   "outputs": [
    {
     "data": {
      "text/plain": [
       "10    1.0999\n",
       "Name: unitNetWorth, dtype: float64"
      ]
     },
     "execution_count": 139,
     "metadata": {},
     "output_type": "execute_result"
    }
   ],
   "source": [
    "filepath = './2021/08/09/zhishu.json'\n",
    "data = pd.read_json(filepath, orient='values', encoding='utf-8')\n",
    "networth = data[data['code']==num]['unitNetWorth']\n",
    "networth"
   ]
  },
  {
   "cell_type": "code",
   "execution_count": 142,
   "id": "spanish-brown",
   "metadata": {},
   "outputs": [],
   "source": [
    "basicpath = './2021/08'\n",
    "for i in range(1,22):\n",
    "    str = '%02d'%i\n",
    "    path = basicpath + '/' + str + '/' + 'zhishu.json'\n",
    "    data = pd.read_json(path, orient='values', encoding='utf-8')\n",
    "    with open('results.json', 'a') as f:\n",
    "        num = 161122\n",
    "        name = data[data['code']==num].values[0][1]\n",
    "        day = data[data['code']==num]['day']\n",
    "        networth = data[data['code']==num]['unitNetWorth']\n",
    "        d = '%d'%num + ',' + name + ',' + day.str.cat(sep='-') + ',' + '%f'%networth\n",
    "        f.write(d + '\\n')"
   ]
  },
  {
   "cell_type": "code",
   "execution_count": null,
   "id": "coated-conversion",
   "metadata": {},
   "outputs": [],
   "source": []
  }
 ],
 "metadata": {
  "kernelspec": {
   "display_name": "Python 3",
   "language": "python",
   "name": "python3"
  },
  "language_info": {
   "codemirror_mode": {
    "name": "ipython",
    "version": 3
   },
   "file_extension": ".py",
   "mimetype": "text/x-python",
   "name": "python",
   "nbconvert_exporter": "python",
   "pygments_lexer": "ipython3",
   "version": "3.9.1"
  }
 },
 "nbformat": 4,
 "nbformat_minor": 5
}
